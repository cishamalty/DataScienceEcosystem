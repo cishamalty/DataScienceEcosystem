{
  "nbformat": 4,
  "nbformat_minor": 0,
  "metadata": {
    "colab": {
      "provenance": []
    },
    "kernelspec": {
      "name": "python3",
      "display_name": "Python 3"
    },
    "language_info": {
      "name": "python"
    }
  },
  "cells": [
    {
      "cell_type": "markdown",
      "source": [
        "# Data Science Tools and Ecosystem\n"
      ],
      "metadata": {
        "id": "_F2NotUbhO0H"
      }
    },
    {
      "cell_type": "markdown",
      "source": [
        " In this notebook, Data Science Tools and Ecosystem are summarized."
      ],
      "metadata": {
        "id": "I61mVYbDhktA"
      }
    },
    {
      "cell_type": "markdown",
      "source": [
        "**Objectives:**\n",
        "\n",
        "- Some of the popular languages that Data Scientists use\n",
        "- Some of the commonly used libraries used by Data Scientists\n",
        "- Data science tools\n",
        "- examples of evaluating arithmetic expressions in Python\n",
        "- How to insert markdowns in anotebook\n",
        "- How to create tables in markdowns\n",
        "- How to save notebooks\n",
        "- How to share anotebook through github\n",
        "- How to to make lists in amarkdown\n"
      ],
      "metadata": {
        "id": "sijHvH8wh0q2"
      }
    },
    {
      "cell_type": "markdown",
      "source": [
        "Some of the popular languages that Data Scientists use are:\n",
        "1. Python\n",
        "2. R programming\n",
        "3. Julia\n",
        "4. SQL\n",
        "5. Java\n",
        "6. Javascript\n",
        "7. MATLAB\n",
        "8. Scala\n",
        "9. Go\n",
        "10. PHP"
      ],
      "metadata": {
        "id": "OsZH-qeYiD_D"
      }
    },
    {
      "cell_type": "markdown",
      "source": [
        "Some of the commonly used libraries used by Data Scientists include:\n",
        "1. Pandas\n",
        "2. Numpy\n",
        "3. Tensor flow\n",
        "4. scikit learn\n",
        "5. ggplot2\n",
        "6. caret\n",
        "7. Keras\n",
        "8. Matplotlib\n",
        "9. Hadoop\n",
        "10. SciPy"
      ],
      "metadata": {
        "id": "kXiljm_FiJqn"
      }
    },
    {
      "cell_type": "markdown",
      "source": [
        "| Data Science Tools |\n",
        "|-|  \n",
        "| Jupyter Notebook |\n",
        "| RStudio |\n",
        "| Apache Zeppelin |\n",
        "| Spyder |\n",
        "| Orange |\n",
        "| Apache Spark |\n",
        "| Keras |\n",
        "| Pandas |"
      ],
      "metadata": {
        "id": "O-l1M-piUtlE"
      }
    },
    {
      "cell_type": "markdown",
      "source": [
        "### Below are a few examples of evaluating arithmetic expressions in Python"
      ],
      "metadata": {
        "id": "vVi6tgrDiF0Z"
      }
    },
    {
      "cell_type": "code",
      "source": [
        "### This a simple arithmetic expression to multiply then add integers\n",
        "\n",
        "(3*4)+5"
      ],
      "metadata": {
        "colab": {
          "base_uri": "https://localhost:8080/"
        },
        "id": "LCuEe3kHWNNE",
        "outputId": "ab0da944-a486-4800-9cf1-e296a566dd5a"
      },
      "execution_count": 2,
      "outputs": [
        {
          "output_type": "execute_result",
          "data": {
            "text/plain": [
              "17"
            ]
          },
          "metadata": {},
          "execution_count": 2
        }
      ]
    },
    {
      "cell_type": "code",
      "source": [
        "# This will convert 200 minutes to hours by diving by 60\n",
        "minutes = 200\n",
        "hrs = minutes/60\n",
        "hrs"
      ],
      "metadata": {
        "colab": {
          "base_uri": "https://localhost:8080/"
        },
        "id": "LInZ7ReJWhk6",
        "outputId": "9bc1974c-bccc-4485-c527-ed86e2e7fe2c"
      },
      "execution_count": 3,
      "outputs": [
        {
          "output_type": "execute_result",
          "data": {
            "text/plain": [
              "3.3333333333333335"
            ]
          },
          "metadata": {},
          "execution_count": 3
        }
      ]
    },
    {
      "cell_type": "markdown",
      "source": [
        "## Author\n",
        "\n",
        "Mugume martin"
      ],
      "metadata": {
        "id": "j1HNf7rEX9YZ"
      }
    },
    {
      "cell_type": "code",
      "source": [],
      "metadata": {
        "id": "dwLXH-D_X-PY"
      },
      "execution_count": null,
      "outputs": []
    }
  ]
}